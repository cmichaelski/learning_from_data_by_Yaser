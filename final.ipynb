{
 "metadata": {
  "name": "",
  "signature": "sha256:dcd2a1591befab99a1c71c5e56553f584e3136f7bd2b0e989dcdba79719f102d"
 },
 "nbformat": 3,
 "nbformat_minor": 0,
 "worksheets": [
  {
   "cells": [
    {
     "cell_type": "markdown",
     "metadata": {},
     "source": [
      "# Final Exam"
     ]
    },
    {
     "cell_type": "code",
     "collapsed": false,
     "input": [
      "%pylab inline"
     ],
     "language": "python",
     "metadata": {},
     "outputs": [
      {
       "output_type": "stream",
       "stream": "stdout",
       "text": [
        "Populating the interactive namespace from numpy and matplotlib\n"
       ]
      }
     ],
     "prompt_number": 1
    },
    {
     "cell_type": "code",
     "collapsed": false,
     "input": [
      "from lib.linear import LinearClassifier\n",
      "from lib.transformations import add_bias\n",
      "\n",
      "\n",
      "training = np.loadtxt('data/features.train')\n",
      "test = np.loadtxt('data/features.test')"
     ],
     "language": "python",
     "metadata": {},
     "outputs": [],
     "prompt_number": 2
    },
    {
     "cell_type": "markdown",
     "metadata": {},
     "source": [
      "## Problem 7\n",
      "Set $\\lambda = 1$ and do not apply a feature transform (i.e., use $z = x = (1, x_1 , x_2)$). Which among the following classifiers has the lowest $E_{in}$ ?\n",
      "\n",
      "- [a] 5 versus all\n",
      "- [b] 6 versus all\n",
      "- [c] 7 versus all\n",
      "- **[d] 8 versus all**\n",
      "- [e] 9 versus all"
     ]
    },
    {
     "cell_type": "code",
     "collapsed": false,
     "input": [
      "# training set\n",
      "X = training[:, 1:]\n",
      "y = training[:, 0]\n",
      "# test set\n",
      "tX = test[:, 1:]\n",
      "ty = test[:, 0]\n",
      "\n",
      "lambd = 1\n",
      "classifier = LinearClassifier(lambd=lambd, Xtransformations=(add_bias,))\n",
      "print('i\\te_in\\te_out')\n",
      "for i in range(10):\n",
      "    _y, _ty = np.where(y == i, 1, -1), np.where(ty == i, 1, -1)\n",
      "    classifier.fit(X, _y)\n",
      "    print('%d\\t%.4f\\t%.4f' %\n",
      "          (i, classifier.error(X, _y), classifier.error(tX, _ty)))"
     ],
     "language": "python",
     "metadata": {},
     "outputs": [
      {
       "output_type": "stream",
       "stream": "stdout",
       "text": [
        "i\te_in\te_out\n",
        "0\t0.1093\t0.1151\n",
        "1\t0.0152\t0.0224\n",
        "2\t0.1003\t0.0987\n",
        "3\t0.0902\t0.0827\n",
        "4\t0.0894\t0.0997\n",
        "5\t0.0763\t0.0797\n",
        "6\t0.0911\t0.0847\n",
        "7\t0.0885\t0.0732\n",
        "8\t0.0743\t0.0827\n",
        "9\t0.0883\t0.0882\n"
       ]
      }
     ],
     "prompt_number": 3
    },
    {
     "cell_type": "markdown",
     "metadata": {},
     "source": [
      "## Problem 8\n",
      "Now, apply a feature transform $z = (1, x_1, x_2 , x_1 x_2 , x^2_1 , x_2^2)$, and set $\\lambda = 1$. Which among the following classifiers has the lowest $E_{out}$ ?\n",
      "\n",
      "- [a] 0 versus all\n",
      "- **[b] 1 versus all**\n",
      "- [c] 2 versus all\n",
      "- [d] 3 versus all\n",
      "- [e] 4 versus all"
     ]
    },
    {
     "cell_type": "code",
     "collapsed": false,
     "input": [
      "def secord_order_transform(X):\n",
      "    x1 = X[:, 0]\n",
      "    x2 = X[:, 1]\n",
      "    N = x1.size\n",
      "    return np.vstack([np.ones(N),\n",
      "                      x1,\n",
      "                      x2,\n",
      "                      x1*x2,\n",
      "                      x1**2,\n",
      "                      x2**2]).T\n",
      "\n",
      "\n",
      "lambd = 1\n",
      "classifier = LinearClassifier(lambd=lambd, Xtransformations=(secord_order_transform,))\n",
      "print('i\\te_in\\te_out')\n",
      "for i in range(10):\n",
      "    _y, _ty = np.where(y == i, 1, -1), np.where(ty == i, 1, -1)\n",
      "    classifier.fit(X, _y)\n",
      "    print('%d\\t%.4f\\t%.4f' %\n",
      "          (i, classifier.error(X, _y), classifier.error(tX, _ty)))"
     ],
     "language": "python",
     "metadata": {},
     "outputs": [
      {
       "output_type": "stream",
       "stream": "stdout",
       "text": [
        "i\te_in\te_out\n",
        "0\t0.1023\t0.1066\n",
        "1\t0.0123\t0.0219\n",
        "2\t0.1003\t0.0987\n",
        "3\t0.0902\t0.0827\n",
        "4\t0.0894\t0.0997\n",
        "5\t0.0763\t0.0792\n",
        "6\t0.0911\t0.0847\n",
        "7\t0.0885\t0.0732\n",
        "8\t0.0743\t0.0827\n",
        "9\t0.0883\t0.0882\n"
       ]
      }
     ],
     "prompt_number": 4
    },
    {
     "cell_type": "markdown",
     "metadata": {},
     "source": [
      "## Problem 9\n",
      "\n",
      "If we compare using the transform versus not using it, and apply that to '0 versus all' through '9 versus all', which of the following statements is correctfor $\\lambda = 1$?\n",
      "\n",
      "- [a] Overfitting always occurs when we use the transform\n",
      "- [b] The transform always improves the out-of-sample performance by at least 5% (Eout with transform \u2264 $0.95 E_{out}$ without transform)\n",
      "- [c] The transform does not make any difference in the out-of-sample performance\n",
      "- [d] The transform always worsens the out-of-sample performance by at least 5%\n",
      "- **[e] The transform improves the out-of-sample performance of '5 versus all', but by less than 5%**\n"
     ]
    },
    {
     "cell_type": "code",
     "collapsed": false,
     "input": [
      "from lib.transformations import filter_y, subset\n",
      "\n",
      "# create a subset of number 1 and number 5\n",
      "select_1_5 = filter_y((1, 5))\n",
      "subset_X, subset_y = subset(X, y, filter_y=select_1_5)\n",
      "subset_tX, subset_ty = subset(tX, ty, filter_y=select_1_5)"
     ],
     "language": "python",
     "metadata": {},
     "outputs": [],
     "prompt_number": 5
    },
    {
     "cell_type": "markdown",
     "metadata": {},
     "source": [
      "## Problem 10\n",
      "Train the '1 versus 5' classifier with $z = (1, x_1, x_2 , x_1 x_2 , x^2_1 , x_2^2)$ with $\\lambda = 0.01$ and $\\lambda = 1$. Which of the following statements is correct?\n",
      "\n",
      "- **[a] Overfitting occurs ($\\lambda = 1$ to $\\lambda = 0.01$)**\n",
      "- [b] The two classifiers have the same Ein\n",
      "- [c] The two classifiers have the same Eout\n",
      "- [d] When $\\lambda$ goes up, both Ein and Eout go up\n",
      "- [e] When $\\lambda$ goes up, both Ein and Eout go down"
     ]
    },
    {
     "cell_type": "code",
     "collapsed": false,
     "input": [
      "print('C\\te_in\\te_out')\n",
      "for lambd in (0.01, 1):\n",
      "    classifier = LinearClassifier(lambd=lambd, Xtransformations=(secord_order_transform,))\n",
      "    _subset_y, _subset_ty = np.where(subset_y == 1, 1, -1), np.where(subset_ty == 1, 1, -1)\n",
      "    classifier.fit(subset_X, _subset_y)\n",
      "    print('%.4f\\t%.4f\\t%.4f' \n",
      "          % (lambd, classifier.error(subset_X, _subset_y), classifier.error(subset_tX, _subset_ty)))"
     ],
     "language": "python",
     "metadata": {},
     "outputs": [
      {
       "output_type": "stream",
       "stream": "stdout",
       "text": [
        "C\te_in\te_out\n",
        "0.0100\t0.0045\t0.0283\n",
        "1.0000\t0.0051\t0.0259\n"
       ]
      }
     ],
     "prompt_number": 6
    },
    {
     "cell_type": "markdown",
     "metadata": {},
     "source": [
      "## Problem 11\n",
      "\n",
      "Consider the following training set generated from a target function $\\mathcal f$: $X \\rightarrow \\{\u22121, +1\\}$ where $X = R^2$\n",
      "\n",
      "$$x_1 = (1, 0), y_1 = \u22121$$\n",
      "$$x_2 = (0, 1), y_2 = \u22121$$\n",
      "$$x_3 = (0, \u22121), y_3 = \u22121$$\n",
      "$$x_4 = (\u22121, 0), y_4 = +1$$\n",
      "$$x_5 = (0, 2), y_5 = +1$$\n",
      "$$x_6 = (0, \u22122), y_6 = +1$$\n",
      "$$x_7 = (\u22122, 0), y_7 = +1$$\n",
      "Transform this training set into another two-dimensional space $\\mathcal Z$\n",
      "$$z_1 = x^2_2 \u2212 2x_1 \u2212 1, \\mbox{  } z_2 = x^2_1 \u2212 2x_2 + 1$$\n",
      "Using geometry (not quadratic programming), what values of $w$ (without $w_0$) and b specify the separating plane $w^T z + b = 0$ that maximizes the margin in the $\\mathcal Z$ space? The values of $w_1, w_2, b$ are:\n",
      "\n",
      "- [a] \u22121, 1, \u22120.5\n",
      "- [b] 1, \u22121, \u22120.5\n",
      "- **[c] 1, 0, \u22120.5**\n",
      "- [d] 0, 1, \u22120.5\n",
      "- [e] None of the above would work\n"
     ]
    },
    {
     "cell_type": "code",
     "collapsed": false,
     "input": [
      "X = np.array([[1, 0], [0, 1], [0, -1],\n",
      "              [-1, 0], [0, 2], [0, -2],\n",
      "              [-2, 0]])\n",
      "y = np.array([-1, -1, -1, 1, 1, 1, 1])\n",
      "# compute Z\n",
      "Z = np.vstack([X[:, 1]**2 - 2*X[:, 0] - 1, X[:, 0]**2 - 2*X[:, 1] + 1]).T\n",
      "# plot Z space\n",
      "plt.axis('equal')\n",
      "plt.scatter(Z[y == 1, 0], Z[y == 1, 1], color='green')\n",
      "plt.scatter(Z[y == -1, 0], Z[y == -1, 1], color='red')"
     ],
     "language": "python",
     "metadata": {},
     "outputs": [
      {
       "metadata": {},
       "output_type": "pyout",
       "prompt_number": 7,
       "text": [
        "<matplotlib.collections.PathCollection at 0x7fdf6613cac8>"
       ]
      },
      {
       "metadata": {},
       "output_type": "display_data",
       "png": "[encoded data removed]",
       "text": [
        "<matplotlib.figure.Figure at 0x7fdf6619a588>"
       ]
      }
     ],
     "prompt_number": 7
    },
    {
     "cell_type": "markdown",
     "metadata": {},
     "source": [
      "## Problem 12\n",
      "\n",
      "Consider the same training set of the previous problem, but instead of explicitly transforming the input space $\\mathcal X$ , apply the SVM algorithm with the kernel $\\mathcal K(x, x') = (1 + x^Tx' )^2$ (which corresponds to a second-order polynomial transformation). Set up the expression for $\\mathcal L(\\alpha_1 ... \\alpha_7)$ and solve for the optimal $\\alpha_1 , ..., \\alpha_7$ (numerically, using a quadratic programming package). The number of support vectors you get is\n",
      "in what range?\n",
      "\n",
      "- [a] 0-1\n",
      "- [b] 2-3\n",
      "- **[c] 4-5**\n",
      "- [d] 6-7\n",
      "- [e] >7"
     ]
    },
    {
     "cell_type": "code",
     "collapsed": false,
     "input": [
      "from lib.svm import SVM, poly_kernel, rbf_kernel\n",
      "\n",
      "classifier = SVM(kernel=poly_kernel(degree=2))\n",
      "classifier.fit(X, y)\n",
      "print(classifier.get_supports())\n",
      "classifier.plot(X, y)"
     ],
     "language": "python",
     "metadata": {},
     "outputs": [
      {
       "output_type": "stream",
       "stream": "stdout",
       "text": [
        "[1 2 3 4 5]\n"
       ]
      },
      {
       "metadata": {},
       "output_type": "display_data",
       "png": "[encoded data removed]",
       "text": [
        "<matplotlib.figure.Figure at 0x7fdf6622c400>"
       ]
      }
     ],
     "prompt_number": 9
    },
    {
     "cell_type": "markdown",
     "metadata": {},
     "source": [
      "We experiment with the RBF model, both in regular form (Lloyd + pseudo-inverse) with $K$ centers:\n",
      "\n",
      "$$sign(\\sum_{k=1}^K w_k \\exp (\u2212\\gamma \\|x \u2212 \\mu_k \\|^2 + b))$$\n",
      "\n",
      "(notice that there is a bias term), and in kernel form (using the RBF kernel in hardmargin SVM):\n",
      "\n",
      "$$sign(\\sum_{\\alpha_n>0} \\alpha_n y_n \\exp (\u2212\\gamma \\|x \u2212 x_n \\|^2 + b))$$\n",
      "\n",
      "The input space is $X = [\u22121, 1] \u00d7 [\u22121, 1]$ with uniform probability distribution, and the target is $f(x) = sign(x_2 \u2212 x_1 + 0.25 \\sin(\\pi x_1 ))$ which is slightly nonlinear in the $\\mathcal X$ space. In each run, generate 100 training points at random using this target, and apply both forms of RBF to these training points.\n",
      "Here are some guidelines:\n",
      "\n",
      "- Repeat the experiment for as many runs as needed to get the answer to be stable (statistically away from flipping to the closest competing answer).\n",
      "- In case a data set is not separable in the \u2018Z space\u2019 by the RBF kernel using hardmargin SVM, discard the run but keep track of how often this happens, if ever.\n",
      "- When you use Lloyd\u2019s algorithm, initialize the centers to random points in X and iterate until there is no change from iteration to iteration. If a cluster becomes empty, discard the run and repeat.\n"
     ]
    },
    {
     "cell_type": "code",
     "collapsed": false,
     "input": [
      "from lib.dataset import PointsDataset\n",
      "from lib.pla import PLA\n",
      "\n",
      "def boundary(x):\n",
      "    return x - 0.25 * np.sin(np.pi * x)\n",
      "\n",
      "ds = PointsDataset(100, boundary=boundary)\n",
      "X = ds.get_X()\n",
      "y = ds.get_y()\n",
      "ds.plot()"
     ],
     "language": "python",
     "metadata": {},
     "outputs": [
      {
       "metadata": {},
       "output_type": "display_data",
       "png": "[encoded data removed]",
       "text": [
        "<matplotlib.figure.Figure at 0x7fdf61c85a58>"
       ]
      }
     ],
     "prompt_number": 10
    },
    {
     "cell_type": "code",
     "collapsed": false,
     "input": [
      "from lib.transformations import add_bias\n",
      "from sklearn.cluster import KMeans\n",
      "\n",
      "\n",
      "class RBF(PLA):\n",
      "    \"\"\"\n",
      "    Regular RBF model(Lloyd + pseudo-inverse)\n",
      "    \"\"\"\n",
      "    def __init__(self, centers, gamma=1):\n",
      "        self.gamma = gamma\n",
      "        self.centers = centers\n",
      "        super().__init__()\n",
      "\n",
      "    def _transform(self, X):\n",
      "        gamma, centers = self.gamma, self.centers\n",
      "        x1 = X[:, 0].reshape((-1, 1)) - centers[:, 0]\n",
      "        x2 = X[:, 1].reshape((-1, 1)) - centers[:, 1]\n",
      "        return add_bias(np.exp(-1 * gamma * (x1**2 + x2**2)))\n",
      "        \n",
      "    def fit(self, X, y):\n",
      "        X = self._transform(X)\n",
      "        self.w = np.linalg.pinv(X.T.dot(X)).dot(X.T).dot(y)\n",
      "        \n",
      "    def predict(self, X):\n",
      "        X = self._transform(X)\n",
      "        return np.where(X.dot(self.w) >= 0, 1, -1)\n",
      "    \n",
      "    def error(self, X, y):\n",
      "        predicted = self.predict(X)\n",
      "        return 1 - (predicted == y).sum() / y.size\n",
      "    \n",
      "    def plot(self, X, y, ax=None):\n",
      "        assert self.w is not None\n",
      "\n",
      "        if ax is None:\n",
      "            fig, ax = plt.subplots()\n",
      "\n",
      "        # create a mesh to plot in\n",
      "        h = .02  # step size\n",
      "        x1_min, x1_max = X[:, 0].min() - 1, X[:, 0].max() + 1\n",
      "        x2_min, x2_max = X[:, 1].min() - 1, X[:, 1].max() + 1\n",
      "        x1x1, x2x2 = np.meshgrid(np.arange(x1_min, x1_max, h),\n",
      "                                 np.arange(x2_min, x2_max, h))\n",
      "\n",
      "        # plot boundary\n",
      "        labels = self.predict(np.c_[x1x1.ravel(), x2x2.ravel()])\n",
      "        ax.contourf(x1x1, x2x2, labels.reshape(x1x1.shape),\n",
      "                    cmap=plt.cm.Paired, alpha=0.8)\n",
      "        # plot data set\n",
      "        plt.scatter(X[:, 0], X[:, 1], s=40, c=y, cmap=plt.cm.Paired)\n",
      "        # plot centers\n",
      "        square = {'marker': 's',\n",
      "                  'facecolor': 'yellow',\n",
      "                  'edgecolor': 'black',\n",
      "                  's': 40}\n",
      "        plt.scatter(self.centers[:, 0],\n",
      "                    self.centers[:, 1], **square)\n",
      "\n",
      "ds = PointsDataset(100, boundary=boundary)\n",
      "X, y = ds.get_X(), ds.get_y()\n",
      "cluster = KMeans(n_clusters=9, n_init=10, init='random', n_jobs=-1)\n",
      "cluster.fit(X)\n",
      "classifier = RBF(cluster.cluster_centers_)\n",
      "classifier.fit(X, y)\n",
      "classifier.plot(X, y)"
     ],
     "language": "python",
     "metadata": {},
     "outputs": [
      {
       "metadata": {},
       "output_type": "display_data",
       "png": "[encoded data removed]",
       "text": [
        "<matplotlib.figure.Figure at 0x7fdf61bb9ef0>"
       ]
      }
     ],
     "prompt_number": 22
    },
    {
     "cell_type": "markdown",
     "metadata": {},
     "source": [
      "## Problem 13\n",
      "For $\\gamma = 1.5$, how often do you get a data set that is not separable by the RBF kernel (using hard-margin SVM). Hint: Run the hard-margin SVM, then check that the solution has $E_{in} = 0$.\n",
      "\n",
      "- **[a] \u2264 5% of the time**\n",
      "- [b] > 5% but \u2264 10% of the time\n",
      "- [c] > 10% but \u2264 20% of the time\n",
      "- [d] > 20% but \u2264 40% of the time\n",
      "- [e] > 40% of the time\n"
     ]
    },
    {
     "cell_type": "code",
     "collapsed": false,
     "input": [
      "from sklearn.svm import SVC\n",
      "gamma = 1.5\n",
      "N = 1000\n",
      "count = 0\n",
      "classifier = SVM(kernel=rbf_kernel(gamma=gamma))\n",
      "for i in range(N):\n",
      "    ds = PointsDataset(100, boundary=boundary)\n",
      "    X, y = ds.get_X(), ds.get_y()\n",
      "    classifier.fit(X, y)\n",
      "    # if data set is not separable, e_in will be greater than 0\n",
      "    if classifier.error(X, y) == 0:\n",
      "        count += 1\n",
      "count / N"
     ],
     "language": "python",
     "metadata": {},
     "outputs": [
      {
       "metadata": {},
       "output_type": "pyout",
       "prompt_number": 14,
       "text": [
        "1.0"
       ]
      }
     ],
     "prompt_number": 14
    },
    {
     "cell_type": "markdown",
     "metadata": {},
     "source": [
      "## Problem 14\n",
      "If we use $K = 9$ for regular RBF and take $\\gamma = 1.5$, how often does the kernel form beat the regular form (excluding runs mentioned in Problem 13 and runs with empty clusters, if any) in terms of E_{out}?\n",
      "\n",
      "- [a] \u2264 15% of the time\n",
      "- [b] > 15% but \u2264 30% of the time\n",
      "- [c] > 30% but \u2264 50% of the time\n",
      "- [d] > 50% but \u2264 75% of the time\n",
      "- **[e] > 75% of the time**\n"
     ]
    },
    {
     "cell_type": "code",
     "collapsed": false,
     "input": [
      "gamma = 1.5\n",
      "N = 100\n",
      "count = 0\n",
      "K = 9\n",
      "svm = SVM(kernel=rbf_kernel(gamma))\n",
      "cluster = KMeans(n_clusters=K, n_init=1, init='random', n_jobs=-1)\n",
      "for i in range(N):\n",
      "    ds = PointsDataset(100, boundary=boundary)\n",
      "    tds = PointsDataset(2000, boundary=boundary)\n",
      "    X, y = ds.get_X(), ds.get_y()\n",
      "    tX, ty = tds.get_X(), tds.get_y()\n",
      "\n",
      "    cluster.fit(X)\n",
      "    svm.fit(X, y)\n",
      "    # discard condition 2 and 3 in guidelines\n",
      "    if np.unique(cluster.labels_).size < K or svm.error(X, y) != 0:\n",
      "        N -= 1\n",
      "        continue\n",
      "        \n",
      "    rbf = RBF(centers=cluster.cluster_centers_, gamma=gamma)\n",
      "    rbf.fit(X, y)\n",
      "    if rbf.error(tX, ty) > svm.error(tX, ty):\n",
      "        count += 1\n",
      "\n",
      "count/N"
     ],
     "language": "python",
     "metadata": {},
     "outputs": [
      {
       "metadata": {},
       "output_type": "pyout",
       "prompt_number": 15,
       "text": [
        "0.94"
       ]
      }
     ],
     "prompt_number": 15
    },
    {
     "cell_type": "markdown",
     "metadata": {},
     "source": [
      "## Problem 15\n",
      "\n",
      "If we use $K = 12$ for regular RBF and take $\\gamma = 1.5$, how often does the kernel form beat the regular form (excluding runs mentioned in Problem 13 and runs with empty clusters, if any) in terms of $E_{out} ?\n",
      "\n",
      "- [a] \u2264 10% of the time\n",
      "- [b] > 10% but \u2264 30% of the time\n",
      "- [c] > 30% but \u2264 60% of the time\n",
      "- **[d] > 60% but \u2264 90% of the time**\n",
      "- [e] > 90% of the time\n"
     ]
    },
    {
     "cell_type": "code",
     "collapsed": false,
     "input": [
      "gamma = 1.5\n",
      "N = 100\n",
      "count = 0\n",
      "K = 12\n",
      "svm = SVM(kernel=rbf_kernel(gamma))\n",
      "cluster = KMeans(n_clusters=K, n_init=1, init='random', n_jobs=-1)\n",
      "for i in range(N):\n",
      "    ds = PointsDataset(100, boundary=boundary)\n",
      "    tds = PointsDataset(2000, boundary=boundary)\n",
      "    X, y = ds.get_X(), ds.get_y()\n",
      "    tX, ty = tds.get_X(), tds.get_y()\n",
      "\n",
      "    cluster.fit(X)\n",
      "    svm.fit(X, y)\n",
      "    # discard condition 2 and 3 in guidelines\n",
      "    if np.unique(cluster.labels_).size < K or svm.error(X, y) != 0:\n",
      "        N -= 1\n",
      "        continue\n",
      "        \n",
      "    rbf = RBF(centers=cluster.cluster_centers_, gamma=gamma)\n",
      "    rbf.fit(X, y)\n",
      "    if rbf.error(tX, ty) > svm.error(tX, ty):\n",
      "        count += 1\n",
      "\n",
      "count/N"
     ],
     "language": "python",
     "metadata": {},
     "outputs": [
      {
       "metadata": {},
       "output_type": "pyout",
       "prompt_number": 16,
       "text": [
        "0.8"
       ]
      }
     ],
     "prompt_number": 16
    },
    {
     "cell_type": "markdown",
     "metadata": {},
     "source": [
      "## Problem 16\n",
      "\n",
      "Now we focus on regular RBF only, with  $\\gamma = 1.5$. If we go from $K = 9$ clusters to $K = 12$ clusters (only 9 and 12), which of the following 5 cases happens most often in your runs (excluding runs with empty clusters, if any)?\n",
      "\n",
      "- [a] Ein goes down but Eout goes up\n",
      "- [b] Ein goes up but Eout goes down\n",
      "- [c] Both Ein and Eout go up\n",
      "- **[d] Both Ein and Eout go down**\n",
      "- [e] There is no change\n"
     ]
    },
    {
     "cell_type": "code",
     "collapsed": false,
     "input": [
      "N = 100\n",
      "\n",
      "cluster9 = KMeans(n_clusters=9, n_init=1, init='random', n_jobs=-1)\n",
      "cluster12 = KMeans(n_clusters=12, n_init=1, init='random', n_jobs=-1)\n",
      "e_in = []  # differences between e_in of k9 and e_in of k12\n",
      "e_out = []  # differences between e_in of k9 and e_in of k12\n",
      "for i in range(N):\n",
      "    ds = PointsDataset(100, boundary=boundary)\n",
      "    tds = PointsDataset(1000, boundary=boundary)\n",
      "    X, y = ds.get_X(), ds.get_y()\n",
      "    tX, ty = tds.get_X(), tds.get_y()\n",
      "\n",
      "    cluster9.fit(X)\n",
      "    cluster12.fit(X)\n",
      "    # discard condition 3 in guidelines\n",
      "    if np.unique(cluster9.labels_).size < 9 or np.unique(cluster12.labels_).size < 12:\n",
      "        e_in.append(0)\n",
      "        e_out.append(0)\n",
      "        N -= 1\n",
      "        continue\n",
      "        \n",
      "    rbf9 = RBF(centers=cluster9.cluster_centers_, gamma=gamma)\n",
      "    rbf12 = RBF(centers=cluster12.cluster_centers_, gamma=gamma)\n",
      "    rbf9.fit(X, y)\n",
      "    rbf12.fit(X, y)\n",
      "    e_in.append(rbf9.error(X, y) - rbf12.error(X, y))\n",
      "    e_out.append(rbf9.error(tX, ty) - rbf12.error(tX, ty))\n",
      "\n",
      "e_in = np.array(e_in)\n",
      "e_out = np.array(e_out)\n",
      "print('total effective run: %d' % N)\n",
      "print('\\te_in\\te_out')\n",
      "print('down\\t%d\\t%d' % ((e_in > 0).sum(), (e_out > 0).sum()))\n",
      "print('up\\t%d\\t%d' % ((e_in < 0).sum(), (e_out < 0).sum()))"
     ],
     "language": "python",
     "metadata": {},
     "outputs": [
      {
       "output_type": "stream",
       "stream": "stdout",
       "text": [
        "total effective run: 100\n",
        "\te_in\te_out\n",
        "down\t65\t77\n",
        "up\t17\t22\n"
       ]
      }
     ],
     "prompt_number": 17
    },
    {
     "cell_type": "markdown",
     "metadata": {},
     "source": [
      "## Problem 17\n",
      "\n",
      "For regular RBF with $K = 9$, if we go from $\\gamma = 1.5$ to $\\gamma = 2$ (only 1.5 and 2), which of the following 5 cases happens most often in your runs (excluding runs with empty clusters, if any)?\n",
      "\n",
      "- [a] Ein goes down but Eout goes up\n",
      "- [b] Ein goes up but Eout goes down\n",
      "- **[c] Both Ein and Eout go up**\n",
      "- [d] Both Ein and Eout go down\n",
      "- [e] There is no change\n"
     ]
    },
    {
     "cell_type": "code",
     "collapsed": false,
     "input": [
      "N = 100\n",
      "K = 9\n",
      "cluster9 = KMeans(n_clusters=K, n_init=1, init='random', n_jobs=-1)\n",
      "e_in = []\n",
      "e_out = []\n",
      "for i in range(N):\n",
      "    ds = PointsDataset(100, boundary=boundary)\n",
      "    tds = PointsDataset(1000, boundary=boundary)\n",
      "    X, y = ds.get_X(), ds.get_y()\n",
      "    tX, ty = tds.get_X(), tds.get_y()\n",
      "\n",
      "    cluster9.fit(X)\n",
      "    if np.unique(cluster9.labels_).size < K:\n",
      "        e_in.append(0)\n",
      "        e_out.append(0)\n",
      "        N -= 1\n",
      "        continue\n",
      "        \n",
      "    rbf_1dot5 = RBF(centers=cluster9.cluster_centers_, gamma=1.5)\n",
      "    rbf_2 = RBF(centers=cluster9.cluster_centers_, gamma=2)\n",
      "    rbf_1dot5.fit(X, y)\n",
      "    rbf_2.fit(X, y)\n",
      "    e_in.append(rbf_1dot5.error(X, y) - rbf_2.error(X, y))\n",
      "    e_out.append(rbf_1dot5.error(tX, ty) - rbf_2.error(tX, ty))\n",
      "\n",
      "e_in = np.array(e_in)\n",
      "e_out = np.array(e_out)\n",
      "print('total effective run: %d' % N)\n",
      "print('\\te_in\\te_out')\n",
      "print('down\\t%d\\t%d' % ((e_in > 0).sum(), (e_out > 0).sum()))\n",
      "print('up\\t%d\\t%d' % ((e_in < 0).sum(), (e_out < 0).sum()))"
     ],
     "language": "python",
     "metadata": {},
     "outputs": [
      {
       "output_type": "stream",
       "stream": "stdout",
       "text": [
        "total effective run: 100\n",
        "\te_in\te_out\n",
        "down\t8\t16\n",
        "up\t39\t79\n"
       ]
      }
     ],
     "prompt_number": 18
    },
    {
     "cell_type": "markdown",
     "metadata": {},
     "source": [
      "## Problem 18\n",
      "What is the percentage of time that regular RBF achieves $E_{in} = 0$ with $K = 9$ and $\\gamma = 1.5$ (excluding runs with empty clusters, if any)?\n",
      "\n",
      "- **[a] \u2264 10% of the time**\n",
      "- [b] > 10% but \u2264 20% of the time\n",
      "- [c] > 20% but \u2264 30% of the time\n",
      "- [d] > 30% but \u2264 50% of the time\n",
      "- [e] > 50% of the time\n"
     ]
    },
    {
     "cell_type": "code",
     "collapsed": false,
     "input": [
      "gamma = 1.5\n",
      "N = 1000\n",
      "count = 0\n",
      "K = 9\n",
      "\n",
      "cluster = KMeans(n_clusters=K, n_init=1, init='random', n_jobs=-1)\n",
      "for i in range(N):\n",
      "    ds = PointsDataset(100, boundary=boundary)\n",
      "    X, y = ds.get_X(), ds.get_y()\n",
      "\n",
      "    cluster.fit(X)\n",
      "    if np.unique(cluster.labels_).size < K:\n",
      "        N -= 1\n",
      "        continue\n",
      "        \n",
      "    rbf = RBF(centers=cluster.cluster_centers_, gamma=gamma)\n",
      "    rbf.fit(X, y)\n",
      "    if rbf.error(X, y) == 0:\n",
      "        count += 1\n",
      "\n",
      "count/N"
     ],
     "language": "python",
     "metadata": {},
     "outputs": [
      {
       "metadata": {},
       "output_type": "pyout",
       "prompt_number": 19,
       "text": [
        "0.04"
       ]
      }
     ],
     "prompt_number": 19
    }
   ],
   "metadata": {}
  }
 ]
}