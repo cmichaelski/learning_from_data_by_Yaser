{
 "metadata": {
  "name": "",
  "signature": "sha256:10320c73240ab31d7891a03c64e6b521f48eeaaead8b529f8acb2d8bdb90bb9f"
 },
 "nbformat": 3,
 "nbformat_minor": 0,
 "worksheets": [
  {
   "cells": [
    {
     "cell_type": "markdown",
     "metadata": {},
     "source": [
      "# Homework 7"
     ]
    },
    {
     "cell_type": "code",
     "collapsed": false,
     "input": [
      "%pylab inline\n",
      "from cvxopt import matrix, solvers"
     ],
     "language": "python",
     "metadata": {},
     "outputs": [
      {
       "output_type": "stream",
       "stream": "stdout",
       "text": [
        "Populating the interactive namespace from numpy and matplotlib\n"
       ]
      }
     ],
     "prompt_number": 1
    },
    {
     "cell_type": "markdown",
     "metadata": {},
     "source": [
      "## Validation\n",
      "In the following problems, use the data provided in the files in.dta and out.dta for Homework # 6 .We are going to apply linear regression with a nonlinear transformation for classification (without regularization). The nonlinear transformation is given by $\\\\phi_0$ through $\\\\phi_7$ which transform $(x_1, x_2)$ into $$1, x_1 , x_2 , x_1^2 , x_2^2 , x_1x_2 , |x_1 - x_2|, |x_1 + x_2|.$$\n",
      "To illustrate how taking out points for validation affects the performance, we will consider the hypotheses trained on $\\mathcal D_{train}$ (without restoring the full $\\mathcal D$ for training after validation is done)."
     ]
    },
    {
     "cell_type": "code",
     "collapsed": false,
     "input": [
      "from lib.dataset import Dataset\n",
      "from lib.linear import LinearClassifier\n",
      "from lib.transformations import add_bias\n",
      "\n",
      "\n",
      "# define the transformations on (x1, x2)\n",
      "def phi0(X):\n",
      "  return np.ones(X.shape[0])\n",
      "\n",
      "\n",
      "def phi1(X):\n",
      "  return X[:, 0]\n",
      "\n",
      "\n",
      "def phi2(X):\n",
      "  return X[:, 1]\n",
      "\n",
      "\n",
      "def phi3(X):\n",
      "  return X[:, 0] ** 2\n",
      "\n",
      "\n",
      "def phi4(X):\n",
      "  return X[:, 1] ** 2\n",
      "\n",
      "\n",
      "def phi5(X):\n",
      "  return X[:, 0] * X[:, 1]\n",
      "\n",
      "\n",
      "def phi6(X):\n",
      "  return np.abs(X[:, 0] - X[:, 1])\n",
      "\n",
      "\n",
      "def phi7(X):\n",
      "  return np.abs(X[:, 0] + X[:, 1])\n",
      "\n",
      "\n",
      "def combined_transform(phis=None):\n",
      "  def transform(X):\n",
      "      if phis is not None and isinstance(phis, list):\n",
      "          return np.array([phi(X) for phi in phis]).T\n",
      "      return X\n",
      "  return transform\n",
      "\n",
      "transformations = [phi0, phi1, phi2, phi3, phi4, phi5, phi6, phi7]"
     ],
     "language": "python",
     "metadata": {},
     "outputs": [],
     "prompt_number": 2
    },
    {
     "cell_type": "code",
     "collapsed": false,
     "input": [
      "# read data\n",
      "training = np.loadtxt('data/in.dta')\n",
      "test = np.loadtxt('data/out.dta')"
     ],
     "language": "python",
     "metadata": {},
     "outputs": [],
     "prompt_number": 3
    },
    {
     "cell_type": "markdown",
     "metadata": {},
     "source": [
      "### Problem 1\n",
      "Split in.dta into training (first 25 examples) and validation (last 10 examples). Train on the 25 examples only, using the validation set of 10 examples to select between five models that apply linear regression to $\\phi_0$ through $\\phi_k$, with $k =3, 4, 5, 6, 7$. For which model is the classification error on the validation set smallest?\n",
      "\n",
      "\n",
      "- [a] k = 3\n",
      "- [b] k = 4\n",
      "- [c] k = 5\n",
      "- **[d] k = 6**\n",
      "- [e] k = 7\n"
     ]
    },
    {
     "cell_type": "code",
     "collapsed": false,
     "input": [
      "# prepare data set\n",
      "training_set = Dataset(training[:25, 0:2], training[:25, 2])\n",
      "validation_set = Dataset(training[25:, 0:2], training[25:, 2])\n",
      "test_set = Dataset(test[:, 0:2], test[:, 2])"
     ],
     "language": "python",
     "metadata": {},
     "outputs": [],
     "prompt_number": 4
    },
    {
     "cell_type": "code",
     "collapsed": false,
     "input": [
      "for k in range(3, 8):\n",
      "    phis = transformations[:k + 1]\n",
      "    classifier = LinearClassifier(Xtransformations=(combined_transform(phis), add_bias))\n",
      "    classifier.fit(training_set.get_X(), training_set.get_y())\n",
      "    print('model%d\\'s validation error is %f' %\n",
      "        (k, classifier.error(validation_set.get_X(), validation_set.get_y())))"
     ],
     "language": "python",
     "metadata": {},
     "outputs": [
      {
       "output_type": "stream",
       "stream": "stdout",
       "text": [
        "model3's validation error is 0.300000\n",
        "model4's validation error is 0.500000\n",
        "model5's validation error is 0.200000\n",
        "model6's validation error is 0.000000\n",
        "model7's validation error is 0.100000\n"
       ]
      }
     ],
     "prompt_number": 5
    },
    {
     "cell_type": "markdown",
     "metadata": {},
     "source": [
      "### Problem 2\n",
      "Evaluate the out-of-sample classification error using out.dta on the 5 models to see how well the validation set predicted the best of the 5 models. For which model is the out-of-sample classification error smallest?\n",
      "\n",
      "- [a] k = 3\n",
      "- [b] k = 4\n",
      "- [c] k = 5\n",
      "- [d] k = 6\n",
      "- **[e] k = 7**"
     ]
    },
    {
     "cell_type": "code",
     "collapsed": false,
     "input": [
      "for k in range(3, 8):\n",
      "    phis = transformations[:k + 1]\n",
      "    classifier = LinearClassifier(Xtransformations=(combined_transform(phis), add_bias))\n",
      "    classifier.fit(training_set.get_X(), training_set.get_y())\n",
      "    print('model%d\\'s validation error is %f' %\n",
      "        (k, classifier.error(test_set.get_X(), test_set.get_y())))"
     ],
     "language": "python",
     "metadata": {},
     "outputs": [
      {
       "output_type": "stream",
       "stream": "stdout",
       "text": [
        "model3's validation error is 0.420000\n",
        "model4's validation error is 0.416000\n",
        "model5's validation error is 0.188000\n",
        "model6's validation error is 0.084000\n",
        "model7's validation error is 0.072000\n"
       ]
      }
     ],
     "prompt_number": 6
    },
    {
     "cell_type": "markdown",
     "metadata": {},
     "source": [
      "## Problem 3\n",
      "Reverse the role of training and validation sets; now training with the last 10 examples and validating with the first 25 examples. For which model is the classification error on the validation set smallest?\n",
      "\n",
      "- [a] k = 3\n",
      "- [b] k = 4\n",
      "- [c] k = 5\n",
      "- **[d] k = 6**\n",
      "- [e] k = 7"
     ]
    },
    {
     "cell_type": "code",
     "collapsed": false,
     "input": [
      "for k in range(3, 8):\n",
      "    phis = transformations[:k + 1]\n",
      "    classifier = LinearClassifier(Xtransformations=(combined_transform(phis), add_bias))\n",
      "    classifier.fit(validation_set.get_X(), validation_set.get_y())\n",
      "    print('model%d\\'s validation error is %f' %\n",
      "        (k, classifier.error(training_set.get_X(), training_set.get_y())))"
     ],
     "language": "python",
     "metadata": {},
     "outputs": [
      {
       "output_type": "stream",
       "stream": "stdout",
       "text": [
        "model3's validation error is 0.280000\n",
        "model4's validation error is 0.360000\n",
        "model5's validation error is 0.200000\n",
        "model6's validation error is 0.080000\n",
        "model7's validation error is 0.120000\n"
       ]
      }
     ],
     "prompt_number": 7
    },
    {
     "cell_type": "markdown",
     "metadata": {},
     "source": [
      "### Problem 4\n",
      "Once again evaluate the out-of-sample classification error using out.dta on the 5 models to see how well the validation set predicted the best of the 5 models. For which model is the out-of-sample classification error smallest?\n",
      "\n",
      "- [a] k = 3\n",
      "- [b] k = 4\n",
      "- [c] k = 5\n",
      "- **[d] k = 6**\n",
      "- [e] k = 7"
     ]
    },
    {
     "cell_type": "code",
     "collapsed": false,
     "input": [
      "for k in range(3, 8):\n",
      "    phis = transformations[:k + 1]\n",
      "    classifier = LinearClassifier(Xtransformations=(combined_transform(phis), add_bias))\n",
      "    classifier.fit(validation_set.get_X(), validation_set.get_y())\n",
      "    print('model%d\\'s validation error is %f' %\n",
      "        (k, classifier.error(test_set.get_X(), test_set.get_y())))"
     ],
     "language": "python",
     "metadata": {},
     "outputs": [
      {
       "output_type": "stream",
       "stream": "stdout",
       "text": [
        "model3's validation error is 0.396000\n",
        "model4's validation error is 0.388000\n",
        "model5's validation error is 0.284000\n",
        "model6's validation error is 0.192000\n",
        "model7's validation error is 0.196000\n"
       ]
      }
     ],
     "prompt_number": 8
    },
    {
     "cell_type": "markdown",
     "metadata": {},
     "source": [
      "### Problem 5\n",
      "What values are closest to the out-of-sample classification error obtained for the model chosen in Problems 1,3, respectively?\n",
      "\n",
      "- [a] 0.0, 0.1\n",
      "- **[b] 0.1, 0.2**\n",
      "- [c] 0.1, 0.3\n",
      "- [d] 0.2, 0.2\n",
      "- [e] 0.2, 0.3"
     ]
    },
    {
     "cell_type": "markdown",
     "metadata": {},
     "source": [
      "## Validation Bias\n",
      "### Problem 6\n",
      "Let $e_1$ and $e_2$ be independent random variables, distributed uniformly over the interval [0, 1]. Let $e = min(e_1, e_2)$. The expected values of $e_1, e_2, e$ are closest to\n",
      "\n",
      "- [a] 0.5, 0.5, 0\n",
      "- [b] 0.5, 0.5, 0.1\n",
      "- [c] 0.5, 0.5, 0.25\n",
      "- **[d] 0.5, 0.5, 0.4**\n",
      "- [e] 0.5, 0.5, 0.5"
     ]
    },
    {
     "cell_type": "code",
     "collapsed": false,
     "input": [
      "np.random.uniform(0, 1, (1000000, 2)).min(1).mean()"
     ],
     "language": "python",
     "metadata": {},
     "outputs": [
      {
       "metadata": {},
       "output_type": "pyout",
       "prompt_number": 9,
       "text": [
        "0.33392008220867825"
       ]
      }
     ],
     "prompt_number": 9
    },
    {
     "cell_type": "markdown",
     "metadata": {},
     "source": [
      "In a analytic way, $P(e > x) = P(e_1 > x)P(e_2 > x) = (1 - P(e_1 <= x))(1 - P(e_2 <= x)) = (1 - x)^2$. \n",
      "\n",
      "So the CDF of $e$ is $F(x) = 1 - P(e > x) = 1 - (1 - x) ^ 2$. The PDF of e is $f(x) = 2 - 2x$ and $E(e) = \\int_0^1 f(x)x\\,dx = \\frac{1}{3}$."
     ]
    },
    {
     "cell_type": "markdown",
     "metadata": {},
     "source": [
      "## Cross Validation\n",
      "### Problem 7\n",
      "You are given the data points: $(-1, 0),(\\rho, 1),(1, 0), \\rho > 0$, and a choice between two models: constant $h_0(x) = b$ and linear $h_1(x) = ax + b$. For which value of $\\rho$ would the two models be tied using leave-one-out cross-validation with the squared error measure?\n",
      "\n",
      "- [a] $\\sqrt{\\sqrt{3} + 4}$\n",
      "- [b] $\\sqrt{\\sqrt{3} - 1}$\n",
      "- **[c] $\\sqrt{9 + 4\\sqrt{6}}$**\n",
      "- [d] $\\sqrt{9 - \\sqrt{6}}$\n",
      "- [e] None of the above"
     ]
    },
    {
     "cell_type": "markdown",
     "metadata": {},
     "source": [
      "For $h_0$, we can get validation error 0.25, 1 and 0.25, corresponding to the hypothesis $h_0(x) = 0.5, h_0(x) = 0$ and $h_0(x) = 0.5$.\n",
      "For $h_1$, we can get validation error $(\\frac{2}{1 + \\rho})^2, 1$ and $(\\frac{2}{\\rho - 1})^2$, corresponding to the hypothesis $h_1(x) = \\frac{1}{\\rho + 1}(x+1), h_1(x) = 0$ and $h_1(x) = \\frac{1}{\\rho - 1}(x - 1)$.\n",
      "\n",
      "Then solve the equation $(\\frac{2}{1 + \\rho})^2+1+(\\frac{2}{\\rho - 1})^2 = 0.25+1+0.25$ and get $\\rho^2 = 9+4\\sqrt{6}$.\n"
     ]
    },
    {
     "cell_type": "markdown",
     "metadata": {},
     "source": [
      "## PLA vs. SVM\n",
      "_Notice: Quadratic Programming packages sometimes need tweaking and have numerical issues, and this is characteristic of packages you will use in practical ML situations. Your understanding of support vectors will help you get to the correct answers._\n",
      "\n",
      "\n",
      "In the following problems, we compare PLA to SVM with hard margin 1 on linearly separable data sets. For each run, you will create your own target function $f$ and data set $\\mathcal D$. Take $d = 2$ and choose a random line in the plane as your target function $f$ (do this by taking two random, uniformly distributed points on $[\u22121, 1] \u00d7 [\u22121, 1]$ and taking the line passing through them), where one side of the line maps to +1 and the other maps to \u22121. Choose the inputs x n of the data set as random points in $X = [\u22121, 1] \u00d7 [\u22121, 1]$, and evaluate the target function on each $x_n$ to get the corresponding output $y_n$. If all data points are on one side of the line, discard the run and start a new run. Start PLA with the all-zero vector and pick the misclassified point for each PLA iteration at random. Run PLA to find the final hypothesis $g$ PLA and measure the disagreement between $f$ and $g$ PLA as $P[f(x) = g_{PLA}(x)]$ (you can either calculate this exactly, or approximate it by generating a sufficiently large, separate set of points t evaluate it). Now, run SVM on the same data to find the final hypothesis $g_{SVM}$ by solving\n",
      "\n",
      "\\begin{equation}\n",
      "\\min_{w, b} \\frac{1}{2} w^Tw\n",
      "\\\\\n",
      "s.t. y_n(w^Tx_n+b) \\ge 1\n",
      "\\end{equation}\n",
      "\n",
      "using quadratic programming on the primal or the dual problem. Measure the disagreement between $f$ and $g_{SVM}$ as $P[f (x) = g_{SVM}(x)]$, and count the number of support vectors you get in each run."
     ]
    },
    {
     "cell_type": "code",
     "collapsed": false,
     "input": [
      "from lib.dataset import PointsDataset\n",
      "from lib.pla import PLA\n",
      "\n",
      "\n",
      "# Kernel functions\n",
      "# All operations are performed on third dimention which is original feature dimention.\n",
      "# All kernel functions receive two array-like paramters which have shape (n1, d) and (n2, d)\n",
      "# and return one array-like result which has shape (n1, n2)\n",
      "def linear_kernel():\n",
      "    \"\"\"\n",
      "    form: <x, x_prime>\n",
      "    \"\"\"\n",
      "    def f(x, x_prime):\n",
      "        if x.ndim == 1:\n",
      "            x = x[np.newaxis, :]\n",
      "        if x_prime.ndim == 1:\n",
      "            x_prime = x_prime[np.newaxis, :]\n",
      "        assert x.shape[1] == x_prime.shape[1]  # must have the same dimention\n",
      "\n",
      "        shape = (x.shape[0], x_prime.shape[0])\n",
      "        x = x[:, np.newaxis, :]\n",
      "        x_prime = x_prime[np.newaxis, :, :]\n",
      "        return np.inner(x, x_prime).reshape(shape)\n",
      "    return f\n",
      "\n",
      "\n",
      "def poly_kernel(degree, gamma=1, coef=1):\n",
      "    \"\"\"\n",
      "    form: (coef + gamma * <x, x_prime>) ** degree\n",
      "    \"\"\"\n",
      "    def f(x, x_prime):\n",
      "        if x.ndim == 1:\n",
      "            x = x[np.newaxis, :]\n",
      "        if x_prime.ndim == 1:\n",
      "            x_prime = x_prime[np.newaxis, :]\n",
      "        assert x.shape[1] == x_prime.shape[1]  # must have the same dimention\n",
      "\n",
      "        shape = (x.shape[0], x_prime.shape[0])\n",
      "        x = x[:, np.newaxis, :]\n",
      "        x_prime = x_prime[np.newaxis, :, :]\n",
      "        k = (np.inner(x, x_prime) * gamma + coef) ** degree\n",
      "        return k.reshape(shape)\n",
      "    return f\n",
      "\n",
      "\n",
      "def rbf_kernel(gamma):\n",
      "    \"\"\"\n",
      "    form: exp(-gamma * <x, x_prime>) ** 2\n",
      "    \"\"\"\n",
      "    def f(x, x_prime):\n",
      "        if x.ndim == 1:\n",
      "            x = x[np.newaxis, :]\n",
      "        if x_prime.ndim == 1:\n",
      "            x_prime = x_prime[np.newaxis, :]\n",
      "        assert x.shape[1] == x_prime.shape[1]  # must have the same dimention\n",
      "\n",
      "        x = x[:, np.newaxis, :]\n",
      "        x_prime = x_prime[np.newaxis, :, :]\n",
      "        k = np.exp(-1 * gamma * ((x - x_prime) ** 2).sum(axis=2))\n",
      "        return k\n",
      "    return f\n",
      "\n",
      "\n",
      "class SVM:\n",
      "    \"\"\"\n",
      "    A support vector machine object.\n",
      "    \"\"\"\n",
      "    def __init__(self, tol=1e-3, kernel=None):\n",
      "        \"\"\"\n",
      "        tol: Tolerance that is criterion of determining wether an alpha is zero or not.\n",
      "        Try small value for stochastic kernels.\n",
      "        For example, when use rbf kernel, tol=1e6 may be a better choice than default.\n",
      "        \"\"\"\n",
      "        if kernel is None:\n",
      "            kernel = linear_kernel()\n",
      "\n",
      "        self.tol = tol\n",
      "        self.kernel = kernel  # kernel function\n",
      "        self.alphas, self.b = None, None\n",
      "        self._X, self._y = None, None  # supports vectors\n",
      "        self.supports = None  # index of support vectors\n",
      "\n",
      "    def get_weight(self):\n",
      "        raise NotImplementedError\n",
      "\n",
      "    def get_supports(self):\n",
      "        \"\"\"\n",
      "        Return the index of support vectors\n",
      "        \"\"\"\n",
      "        return self.supports\n",
      "\n",
      "    def get_support_vectors(self):\n",
      "        \"\"\"\n",
      "        Return support vectors\n",
      "        \"\"\"\n",
      "        return self._X\n",
      "\n",
      "    def _estimate(self, x):\n",
      "        \"\"\"\n",
      "        Compute the value of alpha * y * kernel\n",
      "        \"\"\"\n",
      "        assert self.alphas is not None and self.supports is not None\n",
      "\n",
      "        return ((self.alphas * self._y)[:, np.newaxis]\n",
      "                * self.kernel(self._X, x)).sum(axis=0)\n",
      "\n",
      "    def fit(self, X, y):\n",
      "        \"\"\"\n",
      "        Fit the dataset\n",
      "        \"\"\"\n",
      "        assert y.shape[0] == X.shape[0]\n",
      "\n",
      "        y = y.reshape((-1, 1))  # force column vector\n",
      "        n, d = X.shape\n",
      "\n",
      "        Q = y.dot(y.T) * self.kernel(X, X)  # now much faster\n",
      "        p = np.ones(n) * -1\n",
      "        # alpha >= 0\n",
      "        G = np.eye(n) * -1\n",
      "        h = np.zeros(n)\n",
      "        # alpha * y = 0\n",
      "        A = y.T\n",
      "        b = np.zeros(1)\n",
      "\n",
      "        solvers.options['show_progress'] = False\n",
      "        alphas = solvers.qp(matrix(Q, tc='d'), matrix(p), matrix(G),\n",
      "                            matrix(h), matrix(A, tc='d'), matrix(b))['x']\n",
      "\n",
      "        alphas = np.ravel(alphas)\n",
      "        if np.all(alphas < self.tol):\n",
      "            raise AssertionError('all alphas are zero.')\n",
      "        self.supports = np.where(alphas > self.tol)[0]\n",
      "        self.alphas = alphas[self.supports]\n",
      "        self._X, self._y = X[self.supports], y[self.supports].ravel()\n",
      "        m = self.supports[0]\n",
      "        self.b = y[m] - self._estimate(X[m])\n",
      "\n",
      "    def predict(self, X):\n",
      "        \"\"\"\n",
      "        Predict the label.\n",
      "        \"\"\"\n",
      "        return np.where(self._estimate(X) + self.b >= 0, 1, -1)\n",
      "\n",
      "    def error(self, X, y):\n",
      "        \"\"\"\n",
      "        Return the rate of misclassification.\n",
      "        \"\"\"\n",
      "        predicted = self.predict(X)\n",
      "        return 1 - (y == predicted).sum() / predicted.size\n",
      "\n",
      "    def plot(self, X, y, ax=None):\n",
      "        assert self.alphas is not None and self.supports is not None\n",
      "\n",
      "        if ax is None:\n",
      "            fig, ax = plt.subplots()\n",
      "\n",
      "        # create a mesh to plot in\n",
      "        h = .02  # step size\n",
      "        x1_min, x1_max = X[:, 0].min() - 1, X[:, 0].max() + 1\n",
      "        x2_min, x2_max = X[:, 1].min() - 1, X[:, 1].max() + 1\n",
      "        x1x1, x2x2 = np.meshgrid(np.arange(x1_min, x1_max, h),\n",
      "                                 np.arange(x2_min, x2_max, h))\n",
      "\n",
      "        # plot boundary\n",
      "        labels = self.predict(np.c_[x1x1.ravel(), x2x2.ravel()])\n",
      "        ax.contourf(x1x1, x2x2, labels.reshape(x1x1.shape),\n",
      "                    cmap=plt.cm.Paired, alpha=0.8)\n",
      "        # plot data set\n",
      "        plt.scatter(X[:, 0], X[:, 1], s=40, c=y, cmap=plt.cm.Paired)\n",
      "        # plot support vectors\n",
      "        # draw a square around each support vector\n",
      "        square = {'marker': 's',\n",
      "                  'facecolor': 'none',\n",
      "                  'edgecolor': 'black',\n",
      "                  's': 100}\n",
      "        plt.scatter(self.get_support_vectors()[:, 0],\n",
      "                    self.get_support_vectors()[:, 1], **square)\n",
      "\n",
      "fig, ax = plt.subplots()\n",
      "training_set = PointsDataset(10)\n",
      "X, y = training_set.get_X(), training_set.get_y()\n",
      "svm = SVM()\n",
      "svm.fit(X, y)\n",
      "svm.plot(X, y, ax=ax)"
     ],
     "language": "python",
     "metadata": {},
     "outputs": [
      {
       "output_type": "stream",
       "stream": "stdout",
       "text": [
        "[1 4 6]\n"
       ]
      },
      {
       "metadata": {},
       "output_type": "display_data",
       "png": "[encoded data removed]",
       "text": [
        "<matplotlib.figure.Figure at 0x7f070e9ac390>"
       ]
      }
     ],
     "prompt_number": 18
    },
    {
     "cell_type": "markdown",
     "metadata": {},
     "source": [
      "# Problem 8\n",
      "For $N = 10$, repeat the above experiment for 1000 runs. How often is $g_{SVM}$ better than $g_{PLA}$ in approximating $f$? The percentage of time is closest to:\n",
      "\n",
      "- [a] 20%\n",
      "- [b] 40%\n",
      "- **[c] 60%**\n",
      "- [d] 80%\n",
      "- [e] 100%"
     ]
    },
    {
     "cell_type": "code",
     "collapsed": false,
     "input": [
      "def do_experiment(N):\n",
      "    svm = SVM()\n",
      "    pla = PLA(Xtransformations=(add_bias,))\n",
      "    training_set = PointsDataset(N)\n",
      "    check = training_set.get_y() == 1  # check if we have all data with same label\n",
      "    while check.all() or not check.any():\n",
      "        training_set = PointsDataset(N)\n",
      "        check = training_set.get_y() == 1\n",
      "    test_set = PointsDataset(10000, boundary=training_set.get_boundary())\n",
      "    svm.fit(training_set.get_X(), training_set.get_y())\n",
      "    pla.fit(training_set.get_X(), training_set.get_y())\n",
      "    return svm.error(test_set.get_X(), test_set.get_y()) < pla.error(test_set.get_X(), test_set.get_y())"
     ],
     "language": "python",
     "metadata": {},
     "outputs": [],
     "prompt_number": 19
    },
    {
     "cell_type": "code",
     "collapsed": false,
     "input": [
      "n = 1000\n",
      "better = 0\n",
      "for i in range(n):\n",
      "    better += do_experiment(10)\n",
      "better / n"
     ],
     "language": "python",
     "metadata": {},
     "outputs": [
      {
       "metadata": {},
       "output_type": "pyout",
       "prompt_number": 20,
       "text": [
        "0.61199999999999999"
       ]
      }
     ],
     "prompt_number": 20
    },
    {
     "cell_type": "markdown",
     "metadata": {},
     "source": [
      "### Problem 9\n",
      "For $N = 100$, repeat the above experiment for 1000 runs. How often is $g_{SVM}$ better than $_{PLA}$ in approximating $f$? The percentage of time is closest to:\n",
      "\n",
      "- [a] 10%\n",
      "- [b] 30%\n",
      "- [c] 50%\n",
      "- **[d] 70%**\n",
      "- [e] 90%"
     ]
    },
    {
     "cell_type": "code",
     "collapsed": false,
     "input": [
      "better = 0\n",
      "for i in range(n):\n",
      "    better += do_experiment(100)\n",
      "better / n"
     ],
     "language": "python",
     "metadata": {},
     "outputs": [
      {
       "metadata": {},
       "output_type": "pyout",
       "prompt_number": 21,
       "text": [
        "0.68799999999999994"
       ]
      }
     ],
     "prompt_number": 21
    },
    {
     "cell_type": "markdown",
     "metadata": {},
     "source": [
      "### Problem 10\n",
      "For the case $N = 100$, which of the following is the closest to the average number of support vectors of $g_{SVM}$ (averaged over the 1000 runs)?\n",
      "\n",
      "- [a] 2\n",
      "- **[b] 3**\n",
      "- [c] 5\n",
      "- [d] 10\n",
      "- [e] 20"
     ]
    },
    {
     "cell_type": "code",
     "collapsed": false,
     "input": [
      "svm = SVM()\n",
      "nsv = 0  # number of support vectors\n",
      "for i in range(n):\n",
      "    training_set = PointsDataset(100)\n",
      "    check = training_set.get_y() == 1  # check if we have all data with same label\n",
      "    while check.all() or not check.any():\n",
      "        training_set = PointsDataset(100)\n",
      "        check = training_set.get_y() == 1\n",
      "    svm.fit(training_set.get_X(), training_set.get_y())\n",
      "    nsv += svm.get_supports().size\n",
      "nsv / n"
     ],
     "language": "python",
     "metadata": {},
     "outputs": [
      {
       "metadata": {},
       "output_type": "pyout",
       "prompt_number": 22,
       "text": [
        "3.006"
       ]
      }
     ],
     "prompt_number": 22
    }
   ],
   "metadata": {}
  }
 ]
}