{
 "metadata": {
  "name": "",
  "signature": "sha256:e9936fce8b767fc5bb85bd2b81cdf763f04e1819407fa6c0c64d701824b5b118"
 },
 "nbformat": 3,
 "nbformat_minor": 0,
 "worksheets": [
  {
   "cells": [
    {
     "cell_type": "markdown",
     "metadata": {},
     "source": [
      "## Week6\n",
      "[(EXP)THE DANGER OF OVERFITTING](noise_impact.ipynb)\n",
      "[(HW)HOMEWORK](week6.ipynb)\n",
      "\n",
      "## Week7\n",
      "[(HW)HOMEWORK](week7.ipynb)\n",
      "\n",
      "## Week8\n",
      "[(HW)HOMEWORK](week8.ipynb)"
     ]
    }
   ],
   "metadata": {}
  }
 ]
}