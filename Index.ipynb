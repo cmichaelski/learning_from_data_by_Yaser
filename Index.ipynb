{
 "metadata": {
  "name": "",
  "signature": "sha256:4ad1cb9e7f0535c9d04906a9db4c37f0e8865373fa57acdd44ae883f83bf534b"
 },
 "nbformat": 3,
 "nbformat_minor": 0,
 "worksheets": [
  {
   "cells": [
    {
     "cell_type": "markdown",
     "metadata": {},
     "source": [
      "## Week6\n",
      "[(EXP)THE DANGER OF OVERFITTING](noise_impact.ipynb)\n",
      "\n",
      "[(HW)HOMEWORK](week6.ipynb)\n",
      "\n",
      "## Week7\n",
      "[(HW)HOMEWORK](week7.ipynb)\n",
      "\n",
      "## Week8\n",
      "[(HW)HOMEWORK](week8.ipynb)"
     ]
    }
   ],
   "metadata": {}
  }
 ]
}