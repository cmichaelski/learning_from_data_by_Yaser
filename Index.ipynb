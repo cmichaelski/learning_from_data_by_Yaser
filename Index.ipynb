{
 "metadata": {
  "name": "",
  "signature": "sha256:c1918c16d7b3d084b8a1d40bc85f0a461d9dbb3784ae29b6c6db1a53ff072218"
 },
 "nbformat": 3,
 "nbformat_minor": 0,
 "worksheets": [
  {
   "cells": [
    {
     "cell_type": "markdown",
     "metadata": {},
     "source": [
      "## Week6\n",
      "[(EXP)THE DANGER OF OVERFITTING](noise_effect.ipynb)\n",
      "\n",
      "## Week7\n",
      "[(HW)HOMEWORK](week7.ipynb)"
     ]
    }
   ],
   "metadata": {}
  }
 ]
}