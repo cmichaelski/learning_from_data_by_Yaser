{
 "metadata": {
  "name": "",
  "signature": "sha256:376a3af877135cbbcaf1eaf34e3acaf6e6dc313399f4ead9e746f605168bbd00"
 },
 "nbformat": 3,
 "nbformat_minor": 0,
 "worksheets": [
  {
   "cells": [
    {
     "cell_type": "markdown",
     "metadata": {},
     "source": [
      "## Week6\n",
      "[(EXP)THE DANGER OF OVERFITTING](noise_impact.ipynb)\n",
      "\n",
      "## Week7\n",
      "[(HW)HOMEWORK](week7.ipynb)"
     ]
    },
    {
     "cell_type": "code",
     "collapsed": false,
     "input": [],
     "language": "python",
     "metadata": {},
     "outputs": []
    }
   ],
   "metadata": {}
  }
 ]
}